{
 "cells": [
  {
   "cell_type": "code",
   "execution_count": 23,
   "metadata": {},
   "outputs": [
    {
     "name": "stdout",
     "output_type": "stream",
     "text": [
      "Columns in the dataset:\n",
      "Index(['iso_code', 'continent', 'location', 'date', 'total_cases', 'new_cases',\n",
      "       'new_cases_smoothed', 'total_deaths', 'new_deaths',\n",
      "       'new_deaths_smoothed', 'total_cases_per_million',\n",
      "       'new_cases_per_million', 'new_cases_smoothed_per_million',\n",
      "       'total_deaths_per_million', 'new_deaths_per_million',\n",
      "       'new_deaths_smoothed_per_million', 'reproduction_rate', 'icu_patients',\n",
      "       'icu_patients_per_million', 'hosp_patients',\n",
      "       'hosp_patients_per_million', 'weekly_icu_admissions',\n",
      "       'weekly_icu_admissions_per_million', 'weekly_hosp_admissions',\n",
      "       'weekly_hosp_admissions_per_million', 'total_tests', 'new_tests',\n",
      "       'total_tests_per_thousand', 'new_tests_per_thousand',\n",
      "       'new_tests_smoothed', 'new_tests_smoothed_per_thousand',\n",
      "       'positive_rate', 'tests_per_case', 'tests_units', 'total_vaccinations',\n",
      "       'people_vaccinated', 'people_fully_vaccinated', 'total_boosters',\n",
      "       'new_vaccinations', 'new_vaccinations_smoothed',\n",
      "       'total_vaccinations_per_hundred', 'people_vaccinated_per_hundred',\n",
      "       'people_fully_vaccinated_per_hundred', 'total_boosters_per_hundred',\n",
      "       'new_vaccinations_smoothed_per_million',\n",
      "       'new_people_vaccinated_smoothed',\n",
      "       'new_people_vaccinated_smoothed_per_hundred', 'stringency_index',\n",
      "       'population_density', 'median_age', 'aged_65_older', 'aged_70_older',\n",
      "       'gdp_per_capita', 'extreme_poverty', 'cardiovasc_death_rate',\n",
      "       'diabetes_prevalence', 'female_smokers', 'male_smokers',\n",
      "       'handwashing_facilities', 'hospital_beds_per_thousand',\n",
      "       'life_expectancy', 'human_development_index', 'population',\n",
      "       'excess_mortality_cumulative_absolute', 'excess_mortality_cumulative',\n",
      "       'excess_mortality', 'excess_mortality_cumulative_per_million'],\n",
      "      dtype='object')\n",
      "\n",
      "Preview of the dataset:\n",
      "  iso_code continent     location        date  total_cases  new_cases  \\\n",
      "0      AFG      Asia  Afghanistan  2020-01-05          0.0        0.0   \n",
      "1      AFG      Asia  Afghanistan  2020-01-06          0.0        0.0   \n",
      "2      AFG      Asia  Afghanistan  2020-01-07          0.0        0.0   \n",
      "3      AFG      Asia  Afghanistan  2020-01-08          0.0        0.0   \n",
      "4      AFG      Asia  Afghanistan  2020-01-09          0.0        0.0   \n",
      "\n",
      "   new_cases_smoothed  total_deaths  new_deaths  new_deaths_smoothed  ...  \\\n",
      "0                 NaN           0.0         0.0                  NaN  ...   \n",
      "1                 NaN           0.0         0.0                  NaN  ...   \n",
      "2                 NaN           0.0         0.0                  NaN  ...   \n",
      "3                 NaN           0.0         0.0                  NaN  ...   \n",
      "4                 NaN           0.0         0.0                  NaN  ...   \n",
      "\n",
      "   male_smokers  handwashing_facilities  hospital_beds_per_thousand  \\\n",
      "0           NaN                  37.746                         0.5   \n",
      "1           NaN                  37.746                         0.5   \n",
      "2           NaN                  37.746                         0.5   \n",
      "3           NaN                  37.746                         0.5   \n",
      "4           NaN                  37.746                         0.5   \n",
      "\n",
      "   life_expectancy  human_development_index  population  \\\n",
      "0            64.83                    0.511    41128772   \n",
      "1            64.83                    0.511    41128772   \n",
      "2            64.83                    0.511    41128772   \n",
      "3            64.83                    0.511    41128772   \n",
      "4            64.83                    0.511    41128772   \n",
      "\n",
      "   excess_mortality_cumulative_absolute  excess_mortality_cumulative  \\\n",
      "0                                   NaN                          NaN   \n",
      "1                                   NaN                          NaN   \n",
      "2                                   NaN                          NaN   \n",
      "3                                   NaN                          NaN   \n",
      "4                                   NaN                          NaN   \n",
      "\n",
      "   excess_mortality  excess_mortality_cumulative_per_million  \n",
      "0               NaN                                      NaN  \n",
      "1               NaN                                      NaN  \n",
      "2               NaN                                      NaN  \n",
      "3               NaN                                      NaN  \n",
      "4               NaN                                      NaN  \n",
      "\n",
      "[5 rows x 67 columns]\n",
      "\n",
      "Missing values in each column:\n",
      "iso_code                                        0\n",
      "continent                                   26525\n",
      "location                                        0\n",
      "date                                            0\n",
      "total_cases                                 17631\n",
      "                                            ...  \n",
      "population                                      0\n",
      "excess_mortality_cumulative_absolute       416024\n",
      "excess_mortality_cumulative                416024\n",
      "excess_mortality                           416024\n",
      "excess_mortality_cumulative_per_million    416024\n",
      "Length: 67, dtype: int64\n"
     ]
    }
   ],
   "source": [
    "import pandas as pd\n",
    "\n",
    "# Import necessary libraries\n",
    "\n",
    "# Load the dataset\n",
    "df = pd.read_csv(file_name)\n",
    "\n",
    "# Display basic information about the dataset\n",
    "print(\"Columns in the dataset:\")\n",
    "print(df.columns)\n",
    "\n",
    "# Preview the first few rows\n",
    "print(\"\\nPreview of the dataset:\")\n",
    "print(df.head())\n",
    "\n",
    "# Check for missing values\n",
    "print(\"\\nMissing values in each column:\")\n",
    "print(df.isnull().sum())"
   ]
  },
  {
   "cell_type": "code",
   "execution_count": null,
   "metadata": {
    "vscode": {
     "languageId": "r"
    }
   },
   "outputs": [],
   "source": [
    "import seaborn as sns\n",
    "\n",
    "import matplotlib.pyplot as plt\n",
    "\n",
    "# Data Cleaning: Handle missing values\n",
    "df_cleaned = df.copy()\n",
    "df_cleaned.fillna(0, inplace=True)\n",
    "\n",
    "# Analysis: Calculate total cases and deaths by continent\n",
    "continent_summary = df_cleaned.groupby('continent')[['total_cases', 'total_deaths']].sum().reset_index()\n",
    "\n",
    "# Visualization: Total cases and deaths by continent\n",
    "plt.figure(figsize=(12, 6))\n",
    "sns.barplot(data=continent_summary, x='continent', y='total_cases', color='blue', label='Total Cases')\n",
    "sns.barplot(data=continent_summary, x='continent', y='total_deaths', color='red', label='Total Deaths')\n",
    "plt.title('Total Cases and Deaths by Continent')\n",
    "plt.ylabel('Count')\n",
    "plt.xlabel('Continent')\n",
    "plt.legend()\n",
    "plt.show()\n",
    "\n",
    "# Save cleaned data for submission\n",
    "df_cleaned.to_csv('cleaned_covid_data.csv', index=False)\n",
    "print(\"Cleaned data saved as 'cleaned_covid_data.csv'\")"
   ]
  },
  {
   "cell_type": "code",
   "execution_count": 25,
   "metadata": {},
   "outputs": [
    {
     "name": "stdout",
     "output_type": "stream",
     "text": [
      "      location        date  total_cases  total_deaths  case_fatality_rate\n",
      "0  Afghanistan  2020-01-05          0.0           0.0                 NaN\n",
      "1  Afghanistan  2020-01-06          0.0           0.0                 NaN\n",
      "2  Afghanistan  2020-01-07          0.0           0.0                 NaN\n",
      "3  Afghanistan  2020-01-08          0.0           0.0                 NaN\n",
      "4  Afghanistan  2020-01-09          0.0           0.0                 NaN\n"
     ]
    },
    {
     "name": "stderr",
     "output_type": "stream",
     "text": [
      "/var/folders/fm/6t7vv59s0hxcdcr5txvkp1jw0000gp/T/ipykernel_59032/406284917.py:5: SettingWithCopyWarning: \n",
      "A value is trying to be set on a copy of a slice from a DataFrame.\n",
      "Try using .loc[row_indexer,col_indexer] = value instead\n",
      "\n",
      "See the caveats in the documentation: https://pandas.pydata.org/pandas-docs/stable/user_guide/indexing.html#returning-a-view-versus-a-copy\n",
      "  df_filtered['case_fatality_rate'] = (df_filtered['total_deaths'] / df_filtered['total_cases']) * 100\n"
     ]
    }
   ],
   "source": [
    "# Filter the dataset to include only rows with non-null values for 'total_cases' and 'total_deaths'\n",
    "df_filtered = df[df['total_cases'].notnull() & df['total_deaths'].notnull()]\n",
    "\n",
    "# Calculate the case fatality rate (CFR) as a percentage\n",
    "df_filtered['case_fatality_rate'] = (df_filtered['total_deaths'] / df_filtered['total_cases']) * 100\n",
    "\n",
    "# Display the first few rows of the filtered dataset with the new column\n",
    "print(df_filtered[['location', 'date', 'total_cases', 'total_deaths', 'case_fatality_rate']].head())"
   ]
  },
  {
   "cell_type": "code",
   "execution_count": 33,
   "metadata": {},
   "outputs": [
    {
     "name": "stdout",
     "output_type": "stream",
     "text": [
      "                   location  total_cases  total_deaths  death_rate\n",
      "422728       Western Sahara          NaN           NaN         NaN\n",
      "282897      Northern Cyprus          NaN           NaN         NaN\n",
      "225269                Macao          NaN           NaN         NaN\n",
      "421053                Wales          NaN           NaN         NaN\n",
      "375651               Taiwan          NaN           NaN         NaN\n",
      "...                     ...          ...           ...         ...\n",
      "217093            Lithuania          NaN           NaN         NaN\n",
      "230301             Malaysia          NaN           NaN         NaN\n",
      "21775                  Asia          NaN           NaN         NaN\n",
      "424412                World          NaN           NaN         NaN\n",
      "121602  European Union (27)          NaN           NaN         NaN\n",
      "\n",
      "[255 rows x 4 columns]\n"
     ]
    }
   ],
   "source": [
    "df['death_rate'] = df['total_deaths'] / df['total_cases']\n",
    "df_latest = df.sort_values('date').groupby('location').tail(1)\n",
    "print(df_latest[['location', 'total_cases', 'total_deaths', 'death_rate']])"
   ]
  },
  {
   "cell_type": "code",
   "execution_count": 36,
   "metadata": {},
   "outputs": [
    {
     "name": "stdout",
     "output_type": "stream",
     "text": [
      "Cleaned 'average_cfr_by_continent':\n",
      "       continent  average_case_fatality_rate\n",
      "1           Asia                    1.695381\n",
      "2         Europe                   43.019821\n",
      "3  North America                    1.618914\n",
      "4        Oceania                    0.562020\n",
      "5  South America                    2.451340\n"
     ]
    },
    {
     "name": "stderr",
     "output_type": "stream",
     "text": [
      "/var/folders/fm/6t7vv59s0hxcdcr5txvkp1jw0000gp/T/ipykernel_59032/1033628225.py:6: FutureWarning: A value is trying to be set on a copy of a DataFrame or Series through chained assignment using an inplace method.\n",
      "The behavior will change in pandas 3.0. This inplace method will never work because the intermediate object on which we are setting values always behaves as a copy.\n",
      "\n",
      "For example, when doing 'df[col].method(value, inplace=True)', try using 'df.method({col: value}, inplace=True)' or df[col] = df[col].method(value) instead, to perform the operation inplace on the original object.\n",
      "\n",
      "\n",
      "  average_cfr_by_continent['average_case_fatality_rate'].replace([float('inf'), -float('inf')], float('nan'), inplace=True)\n"
     ]
    }
   ],
   "source": [
    "# Ensure 'continent' column exists in df_filtered\n",
    "if 'continent' not in df_filtered.columns:\n",
    "    df_filtered = df_filtered.merge(df[['iso_code', 'continent']], on='iso_code', how='left')\n",
    "\n",
    "# Replace infinite values in 'average_case_fatality_rate' with NaN\n",
    "average_cfr_by_continent['average_case_fatality_rate'].replace([float('inf'), -float('inf')], float('nan'), inplace=True)\n",
    "\n",
    "# Drop rows with NaN values in 'average_case_fatality_rate'\n",
    "average_cfr_by_continent.dropna(subset=['average_case_fatality_rate'], inplace=True)\n",
    "\n",
    "# Display the cleaned 'average_cfr_by_continent' DataFrame\n",
    "print(\"Cleaned 'average_cfr_by_continent':\")\n",
    "print(average_cfr_by_continent)"
   ]
  },
  {
   "cell_type": "code",
   "execution_count": 38,
   "metadata": {},
   "outputs": [
    {
     "name": "stderr",
     "output_type": "stream",
     "text": [
      "/var/folders/fm/6t7vv59s0hxcdcr5txvkp1jw0000gp/T/ipykernel_59032/2592311885.py:6: FutureWarning: A value is trying to be set on a copy of a DataFrame or Series through chained assignment using an inplace method.\n",
      "The behavior will change in pandas 3.0. This inplace method will never work because the intermediate object on which we are setting values always behaves as a copy.\n",
      "\n",
      "For example, when doing 'df[col].method(value, inplace=True)', try using 'df.method({col: value}, inplace=True)' or df[col] = df[col].method(value) instead, to perform the operation inplace on the original object.\n",
      "\n",
      "\n",
      "  df_filtered['case_fatality_rate'].replace([float('inf'), -float('inf')], float('nan'), inplace=True)\n",
      "/var/folders/fm/6t7vv59s0hxcdcr5txvkp1jw0000gp/T/ipykernel_59032/2592311885.py:6: SettingWithCopyWarning: \n",
      "A value is trying to be set on a copy of a slice from a DataFrame\n",
      "\n",
      "See the caveats in the documentation: https://pandas.pydata.org/pandas-docs/stable/user_guide/indexing.html#returning-a-view-versus-a-copy\n",
      "  df_filtered['case_fatality_rate'].replace([float('inf'), -float('inf')], float('nan'), inplace=True)\n"
     ]
    },
    {
     "name": "stdout",
     "output_type": "stream",
     "text": [
      "Cleaned 'df_filtered':\n",
      "   iso_code continent     location        date  total_cases  new_cases  \\\n",
      "56      AFG      Asia  Afghanistan  2020-03-01          1.0        1.0   \n",
      "57      AFG      Asia  Afghanistan  2020-03-02          1.0        0.0   \n",
      "58      AFG      Asia  Afghanistan  2020-03-03          1.0        0.0   \n",
      "59      AFG      Asia  Afghanistan  2020-03-04          1.0        0.0   \n",
      "60      AFG      Asia  Afghanistan  2020-03-05          1.0        0.0   \n",
      "\n",
      "    new_cases_smoothed  total_deaths  new_deaths  new_deaths_smoothed  ...  \\\n",
      "56               0.143           0.0         0.0                  0.0  ...   \n",
      "57               0.143           0.0         0.0                  0.0  ...   \n",
      "58               0.143           0.0         0.0                  0.0  ...   \n",
      "59               0.143           0.0         0.0                  0.0  ...   \n",
      "60               0.143           0.0         0.0                  0.0  ...   \n",
      "\n",
      "    handwashing_facilities  hospital_beds_per_thousand  life_expectancy  \\\n",
      "56                  37.746                         0.5            64.83   \n",
      "57                  37.746                         0.5            64.83   \n",
      "58                  37.746                         0.5            64.83   \n",
      "59                  37.746                         0.5            64.83   \n",
      "60                  37.746                         0.5            64.83   \n",
      "\n",
      "    human_development_index  population  excess_mortality_cumulative_absolute  \\\n",
      "56                    0.511    41128772                                   NaN   \n",
      "57                    0.511    41128772                                   NaN   \n",
      "58                    0.511    41128772                                   NaN   \n",
      "59                    0.511    41128772                                   NaN   \n",
      "60                    0.511    41128772                                   NaN   \n",
      "\n",
      "    excess_mortality_cumulative  excess_mortality  \\\n",
      "56                          NaN               NaN   \n",
      "57                          NaN               NaN   \n",
      "58                          NaN               NaN   \n",
      "59                          NaN               NaN   \n",
      "60                          NaN               NaN   \n",
      "\n",
      "    excess_mortality_cumulative_per_million  case_fatality_rate  \n",
      "56                                      NaN                 0.0  \n",
      "57                                      NaN                 0.0  \n",
      "58                                      NaN                 0.0  \n",
      "59                                      NaN                 0.0  \n",
      "60                                      NaN                 0.0  \n",
      "\n",
      "[5 rows x 68 columns]\n"
     ]
    },
    {
     "name": "stderr",
     "output_type": "stream",
     "text": [
      "/var/folders/fm/6t7vv59s0hxcdcr5txvkp1jw0000gp/T/ipykernel_59032/2592311885.py:9: SettingWithCopyWarning: \n",
      "A value is trying to be set on a copy of a slice from a DataFrame\n",
      "\n",
      "See the caveats in the documentation: https://pandas.pydata.org/pandas-docs/stable/user_guide/indexing.html#returning-a-view-versus-a-copy\n",
      "  df_filtered.dropna(subset=['case_fatality_rate'], inplace=True)\n"
     ]
    }
   ],
   "source": [
    "# Ensure 'continent' column exists in df_filtered\n",
    "if 'continent' not in df_filtered.columns:\n",
    "    df_filtered = df_filtered.merge(df[['iso_code', 'continent']], on='iso_code', how='left')\n",
    "\n",
    "# Replace infinite values in 'case_fatality_rate' with NaN\n",
    "df_filtered['case_fatality_rate'].replace([float('inf'), -float('inf')], float('nan'), inplace=True)\n",
    "\n",
    "# Drop rows with NaN values in 'case_fatality_rate'\n",
    "df_filtered.dropna(subset=['case_fatality_rate'], inplace=True)\n",
    "\n",
    "# Display the cleaned 'df_filtered' DataFrame\n",
    "print(\"Cleaned 'df_filtered':\")\n",
    "print(df_filtered.head())"
   ]
  },
  {
   "cell_type": "code",
   "execution_count": null,
   "metadata": {
    "vscode": {
     "languageId": "r"
    }
   },
   "outputs": [],
   "source": [
    "# Select countries of interest\n",
    "countries_of_interest = ['United States', 'India', 'Kenya']\n",
    "\n",
    "# Filter the dataset for the selected countries\n",
    "filtered_df = df[df['location'].isin(countries_of_interest)]\n",
    "\n",
    "# Convert the 'date' column to datetime format\n",
    "filtered_df['date'] = pd.to_datetime(filtered_df['date'])\n",
    "\n",
    "# Plot total cases over time for selected countries\n",
    "plt.figure(figsize=(12, 6))\n",
    "for country in countries_of_interest:\n",
    "    country_data = filtered_df[filtered_df['location'] == country]\n",
    "    plt.plot(country_data['date'], country_data['total_cases'], label=country)\n",
    "\n",
    "plt.title('Total COVID-19 Cases Over Time')\n",
    "plt.xlabel('Date')\n",
    "plt.ylabel('Total Cases')\n",
    "plt.legend()\n",
    "plt.grid(True)\n",
    "plt.show()\n",
    "\n",
    "# Plot total deaths over time for selected countries\n",
    "plt.figure(figsize=(12, 6))\n",
    "for country in countries_of_interest:\n",
    "    country_data = filtered_df[filtered_df['location'] == country]\n",
    "    plt.plot(country_data['date'], country_data['total_deaths'], label=country)\n",
    "\n",
    "plt.title('Total COVID-19 Deaths Over Time')\n",
    "plt.xlabel('Date')\n",
    "plt.ylabel('Total Deaths')\n",
    "plt.legend()\n",
    "plt.grid(True)\n",
    "plt.show()"
   ]
  },
  {
   "cell_type": "code",
   "execution_count": 27,
   "metadata": {},
   "outputs": [
    {
     "name": "stdout",
     "output_type": "stream",
     "text": [
      "Cleaned 'average_cfr_by_continent':\n",
      "       continent  case_fatality_rate\n",
      "1           Asia            1.695381\n",
      "2         Europe           43.019821\n",
      "3  North America            1.618914\n",
      "4        Oceania            0.562020\n",
      "5  South America            2.451340\n"
     ]
    },
    {
     "name": "stderr",
     "output_type": "stream",
     "text": [
      "/var/folders/fm/6t7vv59s0hxcdcr5txvkp1jw0000gp/T/ipykernel_59032/2484399232.py:2: FutureWarning: A value is trying to be set on a copy of a DataFrame or Series through chained assignment using an inplace method.\n",
      "The behavior will change in pandas 3.0. This inplace method will never work because the intermediate object on which we are setting values always behaves as a copy.\n",
      "\n",
      "For example, when doing 'df[col].method(value, inplace=True)', try using 'df.method({col: value}, inplace=True)' or df[col] = df[col].method(value) instead, to perform the operation inplace on the original object.\n",
      "\n",
      "\n",
      "  average_cfr_by_continent['case_fatality_rate'].replace([float('inf'), -float('inf')], float('nan'), inplace=True)\n"
     ]
    }
   ],
   "source": [
    "# Replace infinite values in 'case_fatality_rate' with NaN in 'average_cfr_by_continent'\n",
    "average_cfr_by_continent['case_fatality_rate'].replace([float('inf'), -float('inf')], float('nan'), inplace=True)\n",
    "\n",
    "# Drop rows with NaN values in 'case_fatality_rate'\n",
    "average_cfr_by_continent.dropna(subset=['case_fatality_rate'], inplace=True)\n",
    "\n",
    "# Display the cleaned 'average_cfr_by_continent' DataFrame\n",
    "print(\"Cleaned 'average_cfr_by_continent':\")\n",
    "print(average_cfr_by_continent)"
   ]
  },
  {
   "cell_type": "code",
   "execution_count": null,
   "metadata": {},
   "outputs": [
    {
     "name": "stdout",
     "output_type": "stream",
     "text": [
      "Fixed average_cfr_by_continent:\n",
      "       continent  case_fatality_rate\n",
      "1           Asia            1.695381\n",
      "2         Europe           43.019821\n",
      "3  North America            1.618914\n",
      "4        Oceania            0.562020\n",
      "5  South America            2.451340\n",
      "\n",
      "Updated df_filtered:\n",
      "  iso_code continent     location        date  total_cases  new_cases  \\\n",
      "0      AFG      Asia  Afghanistan  2020-01-05          0.0        0.0   \n",
      "1      AFG      Asia  Afghanistan  2020-01-06          0.0        0.0   \n",
      "2      AFG      Asia  Afghanistan  2020-01-07          0.0        0.0   \n",
      "3      AFG      Asia  Afghanistan  2020-01-08          0.0        0.0   \n",
      "4      AFG      Asia  Afghanistan  2020-01-09          0.0        0.0   \n",
      "\n",
      "   new_cases_smoothed  total_deaths  new_deaths  new_deaths_smoothed  ...  \\\n",
      "0                 NaN           0.0         0.0                  NaN  ...   \n",
      "1                 NaN           0.0         0.0                  NaN  ...   \n",
      "2                 NaN           0.0         0.0                  NaN  ...   \n",
      "3                 NaN           0.0         0.0                  NaN  ...   \n",
      "4                 NaN           0.0         0.0                  NaN  ...   \n",
      "\n",
      "   handwashing_facilities  hospital_beds_per_thousand  life_expectancy  \\\n",
      "0                  37.746                         0.5            64.83   \n",
      "1                  37.746                         0.5            64.83   \n",
      "2                  37.746                         0.5            64.83   \n",
      "3                  37.746                         0.5            64.83   \n",
      "4                  37.746                         0.5            64.83   \n",
      "\n",
      "   human_development_index  population  excess_mortality_cumulative_absolute  \\\n",
      "0                    0.511    41128772                                   NaN   \n",
      "1                    0.511    41128772                                   NaN   \n",
      "2                    0.511    41128772                                   NaN   \n",
      "3                    0.511    41128772                                   NaN   \n",
      "4                    0.511    41128772                                   NaN   \n",
      "\n",
      "   excess_mortality_cumulative  excess_mortality  \\\n",
      "0                          NaN               NaN   \n",
      "1                          NaN               NaN   \n",
      "2                          NaN               NaN   \n",
      "3                          NaN               NaN   \n",
      "4                          NaN               NaN   \n",
      "\n",
      "   excess_mortality_cumulative_per_million  case_fatality_rate  \n",
      "0                                      NaN                 NaN  \n",
      "1                                      NaN                 NaN  \n",
      "2                                      NaN                 NaN  \n",
      "3                                      NaN                 NaN  \n",
      "4                                      NaN                 NaN  \n",
      "\n",
      "[5 rows x 68 columns]\n"
     ]
    },
    {
     "name": "stderr",
     "output_type": "stream",
     "text": [
      "/var/folders/fm/6t7vv59s0hxcdcr5txvkp1jw0000gp/T/ipykernel_59032/3263453100.py:2: FutureWarning: A value is trying to be set on a copy of a DataFrame or Series through chained assignment using an inplace method.\n",
      "The behavior will change in pandas 3.0. This inplace method will never work because the intermediate object on which we are setting values always behaves as a copy.\n",
      "\n",
      "For example, when doing 'df[col].method(value, inplace=True)', try using 'df.method({col: value}, inplace=True)' or df[col] = df[col].method(value) instead, to perform the operation inplace on the original object.\n",
      "\n",
      "\n",
      "  average_cfr_by_continent['case_fatality_rate'].replace([float('inf'), -float('inf')], float('nan'), inplace=True)\n"
     ]
    }
   ],
   "source": [
    "# Fix infinite values in 'case_fatality_rate' for average_cfr_by_continent\n",
    "average_cfr_by_continent['case_fatality_rate'].replace([float('inf'), -float('inf')], float('nan'), inplace=True)\n",
    "\n",
    "# Drop rows with NaN values in 'case_fatality_rate'\n",
    "average_cfr_by_continent.dropna(subset=['case_fatality_rate'], inplace=True)\n",
    "\n",
    "# Ensure 'continent' column exists in df_filtered\n",
    "if 'continent' not in df_filtered.columns:\n",
    "    df_filtered = df_filtered.merge(df[['iso_code', 'continent']], on='iso_code', how='left')\n",
    "\n",
    "# Verify the fixes\n",
    "print(\"Fixed average_cfr_by_continent:\")\n",
    "print(average_cfr_by_continent)\n",
    "\n",
    "print(\"\\nUpdated df_filtered:\")\n",
    "print(df_filtered.head())"
   ]
  },
  {
   "cell_type": "code",
   "execution_count": null,
   "metadata": {
    "vscode": {
     "languageId": "r"
    }
   },
   "outputs": [],
   "source": [
    "import streamlit as st\n",
    "\n",
    "# Streamlit Dashboard\n",
    "st.title(\"COVID-19 Data Dashboard\")\n",
    "\n",
    "# Allow user input for country selection\n",
    "countries = df['location'].unique()\n",
    "selected_country = st.selectbox(\"Select a Country\", countries)\n",
    "\n",
    "# Allow user input for date range\n",
    "min_date = pd.to_datetime(df['date']).min()\n",
    "max_date = pd.to_datetime(df['date']).max()\n",
    "start_date, end_date = st.date_input(\"Select Date Range\", [min_date, max_date])\n",
    "\n",
    "# Filter data based on user input\n",
    "filtered_data = df[(df['location'] == selected_country) & \n",
    "                   (pd.to_datetime(df['date']) >= start_date) & \n",
    "                   (pd.to_datetime(df['date']) <= end_date)]\n",
    "\n",
    "# Display filtered data\n",
    "st.write(f\"Data for {selected_country} from {start_date} to {end_date}\")\n",
    "st.dataframe(filtered_data)\n",
    "\n",
    "# Plot total cases and deaths over time\n",
    "st.subheader(\"Total Cases and Deaths Over Time\")\n",
    "if not filtered_data.empty:\n",
    "    fig, ax = plt.subplots(figsize=(10, 6))\n",
    "    ax.plot(filtered_data['date'], filtered_data['total_cases'], label='Total Cases', color='blue')\n",
    "    ax.plot(filtered_data['date'], filtered_data['total_deaths'], label='Total Deaths', color='red')\n",
    "    ax.set_title(f\"COVID-19 Cases and Deaths in {selected_country}\")\n",
    "    ax.set_xlabel(\"Date\")\n",
    "    ax.set_ylabel(\"Count\")\n",
    "    ax.legend()\n",
    "    st.pyplot(fig)\n",
    "else:\n",
    "    st.write(\"No data available for the selected country and date range.\")\n",
    "\n",
    "# Include hospitalization or ICU data if available\n",
    "st.subheader(\"Hospitalization and ICU Data\")\n",
    "if 'icu_patients' in filtered_data.columns and not filtered_data['icu_patients'].isna().all():\n",
    "    fig, ax = plt.subplots(figsize=(10, 6))\n",
    "    ax.plot(filtered_data['date'], filtered_data['icu_patients'], label='ICU Patients', color='purple')\n",
    "    ax.set_title(f\"ICU Patients in {selected_country}\")\n",
    "    ax.set_xlabel(\"Date\")\n",
    "    ax.set_ylabel(\"Count\")\n",
    "    ax.legend()\n",
    "    st.pyplot(fig)\n",
    "else:\n",
    "    st.write(\"No ICU data available for the selected country and date range.\")"
   ]
  },
  {
   "cell_type": "code",
   "execution_count": 28,
   "metadata": {},
   "outputs": [
    {
     "name": "stdout",
     "output_type": "stream",
     "text": [
      "Average Case Fatality Rate by Continent:\n",
      "       continent  average_case_fatality_rate\n",
      "0         Africa                         inf\n",
      "1           Asia                    1.695381\n",
      "2         Europe                   43.019821\n",
      "3  North America                    1.618914\n",
      "4        Oceania                    0.562020\n",
      "5  South America                    2.451340\n"
     ]
    }
   ],
   "source": [
    "# Calculate the average case fatality rate (CFR) for each continent\n",
    "average_cfr_by_continent = df_filtered.groupby('continent')['case_fatality_rate'].mean().reset_index()\n",
    "\n",
    "# Rename the column for clarity\n",
    "average_cfr_by_continent.rename(columns={'case_fatality_rate': 'average_case_fatality_rate'}, inplace=True)\n",
    "\n",
    "# Display the updated DataFrame\n",
    "print(\"Average Case Fatality Rate by Continent:\")\n",
    "print(average_cfr_by_continent)"
   ]
  },
  {
   "cell_type": "code",
   "execution_count": null,
   "metadata": {},
   "outputs": [],
   "source": []
  },
  {
   "cell_type": "code",
   "execution_count": null,
   "metadata": {
    "vscode": {
     "languageId": "ruby"
    }
   },
   "outputs": [
    {
     "name": "stdout",
     "output_type": "stream",
     "text": [
      "      location        date  total_cases  total_deaths  case_fatality_rate\n",
      "0  Afghanistan  2020-01-05          0.0           0.0                 NaN\n",
      "1  Afghanistan  2020-01-06          0.0           0.0                 NaN\n",
      "2  Afghanistan  2020-01-07          0.0           0.0                 NaN\n",
      "3  Afghanistan  2020-01-08          0.0           0.0                 NaN\n",
      "4  Afghanistan  2020-01-09          0.0           0.0                 NaN\n"
     ]
    },
    {
     "name": "stderr",
     "output_type": "stream",
     "text": [
      "/var/folders/fm/6t7vv59s0hxcdcr5txvkp1jw0000gp/T/ipykernel_59032/301297373.py:6: SettingWithCopyWarning: \n",
      "A value is trying to be set on a copy of a slice from a DataFrame.\n",
      "Try using .loc[row_indexer,col_indexer] = value instead\n",
      "\n",
      "See the caveats in the documentation: https://pandas.pydata.org/pandas-docs/stable/user_guide/indexing.html#returning-a-view-versus-a-copy\n",
      "  df_filtered['case_fatality_rate'] = (df_filtered['total_deaths'] / df_filtered['total_cases']) * 100\n"
     ]
    }
   ],
   "source": [
    "# Move the definition of df_filtered to a cell before it is used\n",
    "# Filter the dataset to include only rows with non-null values for 'total_cases' and 'total_deaths'\n",
    "df_filtered = df[df['total_cases'].notnull() & df['total_deaths'].notnull()]\n",
    "\n",
    "# Calculate the case fatality rate (CFR) as a percentage\n",
    "df_filtered['case_fatality_rate'] = (df_filtered['total_deaths'] / df_filtered['total_cases']) * 100\n",
    "\n",
    "# Display the first few rows of the filtered dataset with the new column\n",
    "print(df_filtered[['location', 'date', 'total_cases', 'total_deaths', 'case_fatality_rate']].head())"
   ]
  },
  {
   "cell_type": "code",
   "execution_count": null,
   "metadata": {
    "vscode": {
     "languageId": "r"
    }
   },
   "outputs": [],
   "source": [
    "# Generate a summary report of the dataset\n",
    "def generate_summary_report(df):\n",
    "    print(\"Summary Report:\")\n",
    "    print(\"-\" * 50)\n",
    "    print(f\"Total Rows: {df.shape[0]}\")\n",
    "    print(f\"Total Columns: {df.shape[1]}\")\n",
    "    print(\"\\nColumn Data Types:\")\n",
    "    print(df.dtypes)\n",
    "    print(\"\\nMissing Values:\")\n",
    "    print(df.isnull().sum())\n",
    "    print(\"\\nBasic Statistics:\")\n",
    "    print(df.describe(include='all'))\n",
    "\n",
    "# Call the function to generate the report\n",
    "generate_summary_report(df)\n",
    "\n",
    "# Save the final processed dataset\n",
    "final_file_name = 'final_covid_data.csv'\n",
    "df.to_csv(final_file_name, index=False)\n",
    "print(f\"\\nFinal processed dataset saved as '{final_file_name}'\")"
   ]
  },
  {
   "cell_type": "code",
   "execution_count": 29,
   "metadata": {},
   "outputs": [
    {
     "name": "stdout",
     "output_type": "stream",
     "text": [
      "Cleaned 'average_cfr_by_continent':\n",
      "       continent  average_case_fatality_rate\n",
      "1           Asia                    1.695381\n",
      "2         Europe                   43.019821\n",
      "3  North America                    1.618914\n",
      "4        Oceania                    0.562020\n",
      "5  South America                    2.451340\n"
     ]
    },
    {
     "name": "stderr",
     "output_type": "stream",
     "text": [
      "/var/folders/fm/6t7vv59s0hxcdcr5txvkp1jw0000gp/T/ipykernel_59032/1294569894.py:2: FutureWarning: A value is trying to be set on a copy of a DataFrame or Series through chained assignment using an inplace method.\n",
      "The behavior will change in pandas 3.0. This inplace method will never work because the intermediate object on which we are setting values always behaves as a copy.\n",
      "\n",
      "For example, when doing 'df[col].method(value, inplace=True)', try using 'df.method({col: value}, inplace=True)' or df[col] = df[col].method(value) instead, to perform the operation inplace on the original object.\n",
      "\n",
      "\n",
      "  average_cfr_by_continent['average_case_fatality_rate'].replace([float('inf'), -float('inf')], float('nan'), inplace=True)\n"
     ]
    }
   ],
   "source": [
    "# Replace infinite values in 'average_case_fatality_rate' with NaN in 'average_cfr_by_continent'\n",
    "average_cfr_by_continent['average_case_fatality_rate'].replace([float('inf'), -float('inf')], float('nan'), inplace=True)\n",
    "\n",
    "# Drop rows with NaN values in 'average_case_fatality_rate'\n",
    "average_cfr_by_continent.dropna(subset=['average_case_fatality_rate'], inplace=True)\n",
    "\n",
    "# Display the cleaned 'average_cfr_by_continent' DataFrame\n",
    "print(\"Cleaned 'average_cfr_by_continent':\")\n",
    "print(average_cfr_by_continent)"
   ]
  },
  {
   "cell_type": "code",
   "execution_count": null,
   "metadata": {},
   "outputs": [
    {
     "name": "stdout",
     "output_type": "stream",
     "text": [
      "No missing values in 'average_cfr_by_continent'.\n",
      "Missing values detected in 'df_filtered':\n",
      "iso_code                                        0\n",
      "continent                                   20088\n",
      "location                                        0\n",
      "date                                            0\n",
      "total_cases                                     0\n",
      "                                            ...  \n",
      "excess_mortality_cumulative_absolute       398511\n",
      "excess_mortality_cumulative                398511\n",
      "excess_mortality                           398511\n",
      "excess_mortality_cumulative_per_million    398511\n",
      "case_fatality_rate                          29283\n",
      "Length: 68, dtype: int64\n",
      "Missing values detected in 'df':\n",
      "iso_code                                        0\n",
      "continent                                   26525\n",
      "location                                        0\n",
      "date                                            0\n",
      "total_cases                                 17631\n",
      "                                            ...  \n",
      "population                                      0\n",
      "excess_mortality_cumulative_absolute       416024\n",
      "excess_mortality_cumulative                416024\n",
      "excess_mortality                           416024\n",
      "excess_mortality_cumulative_per_million    416024\n",
      "Length: 67, dtype: int64\n"
     ]
    }
   ],
   "source": [
    "# Verify the integrity of the 'average_cfr_by_continent' DataFrame\n",
    "if average_cfr_by_continent.isnull().sum().sum() == 0:\n",
    "    print(\"No missing values in 'average_cfr_by_continent'.\")\n",
    "else:\n",
    "    print(\"Missing values detected in 'average_cfr_by_continent':\")\n",
    "    print(average_cfr_by_continent.isnull().sum())\n",
    "\n",
    "# Verify the integrity of the 'df_filtered' DataFrame\n",
    "if df_filtered.isnull().sum().sum() == 0:\n",
    "    print(\"No missing values in 'df_filtered'.\")\n",
    "else:\n",
    "    print(\"Missing values detected in 'df_filtered':\")\n",
    "    print(df_filtered.isnull().sum())\n",
    "\n",
    "# Verify the integrity of the 'df' DataFrame\n",
    "if df.isnull().sum().sum() == 0:\n",
    "    print(\"No missing values in 'df'.\")\n",
    "else:\n",
    "    print(\"Missing values detected in 'df':\")\n",
    "    print(df.isnull().sum())"
   ]
  },
  {
   "cell_type": "code",
   "execution_count": 32,
   "metadata": {},
   "outputs": [
    {
     "name": "stderr",
     "output_type": "stream",
     "text": [
      "/var/folders/fm/6t7vv59s0hxcdcr5txvkp1jw0000gp/T/ipykernel_59032/2737220963.py:2: FutureWarning: A value is trying to be set on a copy of a DataFrame or Series through chained assignment using an inplace method.\n",
      "The behavior will change in pandas 3.0. This inplace method will never work because the intermediate object on which we are setting values always behaves as a copy.\n",
      "\n",
      "For example, when doing 'df[col].method(value, inplace=True)', try using 'df.method({col: value}, inplace=True)' or df[col] = df[col].method(value) instead, to perform the operation inplace on the original object.\n",
      "\n",
      "\n",
      "  average_cfr_by_continent['average_case_fatality_rate'].replace([float('inf'), -float('inf')], float('nan'), inplace=True)\n"
     ]
    },
    {
     "name": "stdout",
     "output_type": "stream",
     "text": [
      "No missing values in 'average_cfr_by_continent'.\n",
      "Cleaned 'average_cfr_by_continent':\n",
      "       continent  average_case_fatality_rate\n",
      "1           Asia                    1.695381\n",
      "2         Europe                   43.019821\n",
      "3  North America                    1.618914\n",
      "4        Oceania                    0.562020\n",
      "5  South America                    2.451340\n",
      "Missing values detected in 'df_filtered':\n",
      "iso_code                                        0\n",
      "continent                                   20088\n",
      "location                                        0\n",
      "date                                            0\n",
      "total_cases                                     0\n",
      "                                            ...  \n",
      "excess_mortality_cumulative_absolute       398511\n",
      "excess_mortality_cumulative                398511\n",
      "excess_mortality                           398511\n",
      "excess_mortality_cumulative_per_million    398511\n",
      "case_fatality_rate                          29283\n",
      "Length: 68, dtype: int64\n"
     ]
    }
   ],
   "source": [
    "# Replace infinite values in 'average_case_fatality_rate' with NaN\n",
    "average_cfr_by_continent['average_case_fatality_rate'].replace([float('inf'), -float('inf')], float('nan'), inplace=True)\n",
    "\n",
    "# Drop rows with NaN values in 'average_case_fatality_rate'\n",
    "average_cfr_by_continent.dropna(subset=['average_case_fatality_rate'], inplace=True)\n",
    "\n",
    "# Verify the integrity of the 'average_cfr_by_continent' DataFrame\n",
    "if average_cfr_by_continent.isnull().sum().sum() == 0:\n",
    "    print(\"No missing values in 'average_cfr_by_continent'.\")\n",
    "else:\n",
    "    print(\"Missing values detected in 'average_cfr_by_continent':\")\n",
    "    print(average_cfr_by_continent.isnull().sum())\n",
    "\n",
    "# Ensure 'continent' column exists in df_filtered\n",
    "if 'continent' not in df_filtered.columns:\n",
    "    df_filtered = df_filtered.merge(df[['iso_code', 'continent']], on='iso_code', how='left')\n",
    "\n",
    "# Display the cleaned 'average_cfr_by_continent' DataFrame\n",
    "print(\"Cleaned 'average_cfr_by_continent':\")\n",
    "print(average_cfr_by_continent)\n",
    "\n",
    "# Verify the integrity of the 'df_filtered' DataFrame\n",
    "if df_filtered.isnull().sum().sum() == 0:\n",
    "    print(\"No missing values in 'df_filtered'.\")\n",
    "else:\n",
    "    print(\"Missing values detected in 'df_filtered':\")\n",
    "    print(df_filtered.isnull().sum())"
   ]
  }
 ],
 "metadata": {
  "kernelspec": {
   "display_name": "Python 3",
   "language": "python",
   "name": "python3"
  },
  "language_info": {
   "codemirror_mode": {
    "name": "ipython",
    "version": 3
   },
   "file_extension": ".py",
   "mimetype": "text/x-python",
   "name": "python",
   "nbconvert_exporter": "python",
   "pygments_lexer": "ipython3",
   "version": "3.13.2"
  }
 },
 "nbformat": 4,
 "nbformat_minor": 2
}
